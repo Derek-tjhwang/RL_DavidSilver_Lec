{
 "cells": [
  {
   "cell_type": "markdown",
   "metadata": {},
   "source": [
    "## MonteCarlo\n",
    "\n",
    "Apply Monte-Carlo control to Easy21. Initialise the value function to zero.\n",
    "Use a time-varying scalar step-size of alpha_t = 1/N(s_t, a_t) and an epsilon-greedy exploration strategy with epsilon_t = N_0 / (N_0 + N(s_t)), where N_0 = 100 is a constant, N(s) is the number of times that state s has been visited, and N(s, a) is the number of times that action a has been selected from state s. Feel free to choose an alternative value for N_0, if it helps producing better results.\n",
    "Plot the optimal value function V\\*(s) = max_aQ\\*(s, a)using similar axes to the following figure taken from Sutton and Barto\\`s Blackjack example"
   ]
  },
  {
   "cell_type": "markdown",
   "metadata": {},
   "source": [
    "__Value Function__\n",
    "- Initialise : zero\n",
    "\n",
    "__step-size__\n",
    "- alpha_t = 1/N(s_t, a_t)\n",
    "\n",
    "__epsilon-greedy exploration__\n",
    "- epsilon_t = N_0/(N_0 + N(s_t)), N_0 = 100 is a constant\n",
    "\n",
    "N(s): number of times that state __s__ has been visited.  \n",
    "N(s, a): number of times that action __a__ has been selected from state s.\n",
    "\n",
    "__Optimal value function__  \n",
    "V\\*(s) = max_aQ\\*(s, a) \n",
    "  \n",
    "Plot the optimal value function\n"
   ]
  },
  {
   "cell_type": "code",
   "execution_count": 1,
   "metadata": {},
   "outputs": [],
   "source": [
    "import numpy as np\n",
    "import matplotlib.pyplot as plt\n",
    "from time import sleep\n",
    "import pickle\n",
    "from collections import defaultdict"
   ]
  },
  {
   "cell_type": "code",
   "execution_count": 2,
   "metadata": {},
   "outputs": [],
   "source": [
    "\n",
    "class EasyEnv(object):\n",
    "    def __init__(self):\n",
    "        self.lowerbound = 1\n",
    "        self.upperbound = 21\n",
    "        # 1 is hit and 0 is stick\n",
    "        self.actions = [0, 1]\n",
    "    \n",
    "    def initGame(self):\n",
    "        self.playerValue = np.random.randint(1, 11)\n",
    "        self.dealerValue = np.random.randint(1, 11)\n",
    "        \n",
    "    def draw(self):\n",
    "        card_value = np.random.randint(1, 11)\n",
    "        \n",
    "        if round(np.random.rand(), 2) <= 0.3:\n",
    "            return -card_value\n",
    "        else:\n",
    "            return card_value\n",
    "        \n",
    "    def get_state(self):\n",
    "        return (self.playerValue, self.dealerValue)\n",
    "    \n",
    "    def step(self, playerValue, dealerValue, action):\n",
    "        \n",
    "        # Hit\n",
    "        if action == 1:\n",
    "            state += self.draw()\n",
    "            \n",
    "            if playerValue > self.upperbound or playerValue < self.lowerbound:\n",
    "                reward = -1\n",
    "                terminated = True\n",
    "            else:\n",
    "                reward = 0\n",
    "                terminated = False\n",
    "        else:\n",
    "            # Player Action is Stick. Dealer`s turn.\n",
    "            while dealerValue < 17:\n",
    "                dealerValue += self.draw()\n",
    "                \n",
    "            if dealerValue > self.upperbound or dealerValue < self.lowerbound or playerValue > dealerValue:\n",
    "                reward = 1\n",
    "            elif playerValue == dealerValue:\n",
    "                reward = 0\n",
    "            else:\n",
    "                reward = -1\n",
    "        \n",
    "        return playerValue, dealerValue, reward, terminated\n",
    "    "
   ]
  },
  {
   "cell_type": "code",
   "execution_count": null,
   "metadata": {},
   "outputs": [],
   "source": [
    "\n",
    "\n",
    "class MCControl(object):\n",
    "    \n",
    "    N_0 = 100\n",
    "    \n",
    "    N_s_dict = {}\n",
    "    N_sa_dict = {}\n",
    "    Q_sa_dict = {}\n",
    "    V_s_dict = {}\n",
    "    \n",
    "    \n",
    "\n",
    "    def calc_epsilon(self, N_s):\n",
    "        epsilon_t = N_0/(N_0 + N_s)\n",
    "        return epsilon_t\n",
    "    \n",
    "    def clac_alpha(N_sa)\n",
    "        alpha = 1 / N_sa\n",
    "        return alpha\n",
    "        \n",
    "    def epsilonGreedy(N_0, N, Q, x, ):\n",
    "        esl = N_0 / (N_0 + np.sum(N))\n",
    "        \n",
    "        \n",
    "    def update(self, state, g):\n",
    "        # this problem is reward == return\n",
    "        \n",
    "        if state not in V_s_dict.keys:\n",
    "            V_s_dict[state] = 0\n",
    "        else:\n",
    "            V_s_dict = V_s_dict[state] + 1 / N_s_dict[state]*(g - V_s_dict[state])\n",
    "        \n",
    "        \n",
    "    for episode in range(episodes):\n",
    "        \n",
    "        \n",
    "        episode = EasyEnv()\n",
    "    \n",
    "    \n",
    "        \n",
    "    "
   ]
  },
  {
   "cell_type": "code",
   "execution_count": 10,
   "metadata": {},
   "outputs": [],
   "source": [
    "n_dict = {}\n",
    "n = (1, 0)\n",
    "n_dict[n] = 0"
   ]
  },
  {
   "cell_type": "code",
   "execution_count": 11,
   "metadata": {},
   "outputs": [
    {
     "data": {
      "text/plain": [
       "{(1, 0): 0}"
      ]
     },
     "execution_count": 11,
     "metadata": {},
     "output_type": "execute_result"
    }
   ],
   "source": [
    "n_dict"
   ]
  },
  {
   "cell_type": "code",
   "execution_count": 8,
   "metadata": {},
   "outputs": [],
   "source": [
    "import numpy as np\n",
    "rng = np.random\n",
    "\n",
    "class Easy21:\n",
    "    \"\"\" Simplified Blackjack Game Class  \"\"\"\n",
    "    num_play = 0\n",
    "    num_step = 1\n",
    "    state_dealer = 0\n",
    "    state_player = 0\n",
    "    is_finish    = False\n",
    "    reward = 0\n",
    "\n",
    "    def draw_card(self):\n",
    "        number = rng.randint(10)+1\n",
    "        if rng.random() > (1.0/3.0):\n",
    "            rb = 1  #-1:red, 1:black\n",
    "        else:\n",
    "            rb = -1\n",
    "        return number,rb\n",
    "\n",
    "    def __init__(self):\n",
    "        self.num_play += 1\n",
    "        number, rb = self.draw_card()\n",
    "        self.state_dealer += number #only black\n",
    "        number, rb = self.draw_card()\n",
    "        self.state_player += number #only black\n",
    "\n",
    "    def print_state(self):\n",
    "        print('step:' +str(self.num_step))\n",
    "        print('dealer state:' + str(self.state_dealer))\n",
    "        print('player state:' + str(self.state_player))\n",
    "        print('reward:' + str(self.reward))\n",
    "        if self.is_finish:\n",
    "            print('Finished!')\n",
    "        else:\n",
    "            print('On game.')\n",
    "    def get_state(self):\n",
    "        #self.print_state()\n",
    "        return (self.state_dealer,self.state_player)\n",
    "\n",
    "    def step(self,state , action):\n",
    "        #self.print_states()\n",
    "        self.num_step += 1\n",
    "        if action == 0:\n",
    "            self.reward = self.finalize()\n",
    "            return (self.state_dealer,self.state_player), self.reward\n",
    "        elif action == 1:\n",
    "            number, rb = self.draw_card()\n",
    "            self.state_player += number * rb\n",
    "            if self.state_player > 21:\n",
    "                self.reward = -1\n",
    "                self.is_finish = True\n",
    "            if self.state_player < 1:\n",
    "                self.reward = -1\n",
    "                self.is_finish = True\n",
    "            return (self.state_dealer,self.state_player), self.reward\n",
    "    def finalize(self):\n",
    "        self.is_finish = True\n",
    "        while self.state_dealer < 17:\n",
    "            number, rb = self.draw_card()\n",
    "            self.state_dealer += number * rb\n",
    "            if self.state_dealer < 1:\n",
    "                return 1\n",
    "        if self.state_dealer > 21:\n",
    "            return 1\n",
    "        if self.state_dealer < self.state_player:\n",
    "            return 1\n",
    "        elif self.state_dealer == self.state_player:\n",
    "            return 0\n",
    "        elif self.state_dealer > self.state_player:\n",
    "            return -1\n",
    "    def interactive(self):\n",
    "        while self.is_finish == False:\n",
    "            state = self.get_state()\n",
    "            action = input(\"stick or hit(0/1):\")\n",
    "            state, reward = self.step(state, action)\n",
    "        self.get_state()\n"
   ]
  },
  {
   "cell_type": "code",
   "execution_count": 9,
   "metadata": {},
   "outputs": [
    {
     "name": "stdout",
     "output_type": "stream",
     "text": [
      "stick or hit(0/1):1\n"
     ]
    },
    {
     "ename": "TypeError",
     "evalue": "'NoneType' object is not iterable",
     "output_type": "error",
     "traceback": [
      "\u001b[0;31m---------------------------------------------------------------------------\u001b[0m",
      "\u001b[0;31mTypeError\u001b[0m                                 Traceback (most recent call last)",
      "\u001b[0;32m<ipython-input-9-98fa98e303d9>\u001b[0m in \u001b[0;36m<module>\u001b[0;34m()\u001b[0m\n\u001b[1;32m      1\u001b[0m \u001b[0mgame\u001b[0m \u001b[0;34m=\u001b[0m \u001b[0mEasy21\u001b[0m\u001b[0;34m(\u001b[0m\u001b[0;34m)\u001b[0m\u001b[0;34m\u001b[0m\u001b[0m\n\u001b[0;32m----> 2\u001b[0;31m \u001b[0mgame\u001b[0m\u001b[0;34m.\u001b[0m\u001b[0minteractive\u001b[0m\u001b[0;34m(\u001b[0m\u001b[0;34m)\u001b[0m\u001b[0;34m\u001b[0m\u001b[0m\n\u001b[0m\u001b[1;32m      3\u001b[0m \u001b[0mprint\u001b[0m\u001b[0;34m(\u001b[0m\u001b[0mgame\u001b[0m\u001b[0;34m.\u001b[0m\u001b[0mis_finish\u001b[0m\u001b[0;34m)\u001b[0m\u001b[0;34m\u001b[0m\u001b[0m\n\u001b[1;32m      4\u001b[0m \u001b[0;34m\u001b[0m\u001b[0m\n\u001b[1;32m      5\u001b[0m \u001b[0;31m#easy21.step(1,1)\u001b[0m\u001b[0;34m\u001b[0m\u001b[0;34m\u001b[0m\u001b[0m\n",
      "\u001b[0;32m<ipython-input-8-648b900fba08>\u001b[0m in \u001b[0;36minteractive\u001b[0;34m(self)\u001b[0m\n\u001b[1;32m     74\u001b[0m             \u001b[0mstate\u001b[0m \u001b[0;34m=\u001b[0m \u001b[0mself\u001b[0m\u001b[0;34m.\u001b[0m\u001b[0mget_state\u001b[0m\u001b[0;34m(\u001b[0m\u001b[0;34m)\u001b[0m\u001b[0;34m\u001b[0m\u001b[0m\n\u001b[1;32m     75\u001b[0m             \u001b[0maction\u001b[0m \u001b[0;34m=\u001b[0m \u001b[0minput\u001b[0m\u001b[0;34m(\u001b[0m\u001b[0;34m\"stick or hit(0/1):\"\u001b[0m\u001b[0;34m)\u001b[0m\u001b[0;34m\u001b[0m\u001b[0m\n\u001b[0;32m---> 76\u001b[0;31m             \u001b[0mstate\u001b[0m\u001b[0;34m,\u001b[0m \u001b[0mreward\u001b[0m \u001b[0;34m=\u001b[0m \u001b[0mself\u001b[0m\u001b[0;34m.\u001b[0m\u001b[0mstep\u001b[0m\u001b[0;34m(\u001b[0m\u001b[0mstate\u001b[0m\u001b[0;34m,\u001b[0m \u001b[0maction\u001b[0m\u001b[0;34m)\u001b[0m\u001b[0;34m\u001b[0m\u001b[0m\n\u001b[0m\u001b[1;32m     77\u001b[0m         \u001b[0mself\u001b[0m\u001b[0;34m.\u001b[0m\u001b[0mget_state\u001b[0m\u001b[0;34m(\u001b[0m\u001b[0;34m)\u001b[0m\u001b[0;34m\u001b[0m\u001b[0m\n",
      "\u001b[0;31mTypeError\u001b[0m: 'NoneType' object is not iterable"
     ]
    }
   ],
   "source": [
    "game = Easy21()\n",
    "game.interactive()\n",
    "print(game.is_finish)\n",
    "\n",
    "#easy21.step(1,1)\n",
    "#print(easy21.draw_card())"
   ]
  },
  {
   "cell_type": "code",
   "execution_count": null,
   "metadata": {},
   "outputs": [],
   "source": []
  },
  {
   "cell_type": "code",
   "execution_count": null,
   "metadata": {},
   "outputs": [],
   "source": []
  },
  {
   "cell_type": "code",
   "execution_count": null,
   "metadata": {},
   "outputs": [],
   "source": []
  }
 ],
 "metadata": {
  "kernelspec": {
   "display_name": "Python 3",
   "language": "python",
   "name": "python3"
  },
  "language_info": {
   "codemirror_mode": {
    "name": "ipython",
    "version": 3
   },
   "file_extension": ".py",
   "mimetype": "text/x-python",
   "name": "python",
   "nbconvert_exporter": "python",
   "pygments_lexer": "ipython3",
   "version": "3.6.4"
  }
 },
 "nbformat": 4,
 "nbformat_minor": 2
}
