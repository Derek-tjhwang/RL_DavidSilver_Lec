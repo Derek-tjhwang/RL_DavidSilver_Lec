{
 "cells": [
  {
   "cell_type": "markdown",
   "metadata": {},
   "source": [
    "## Linear Function Approximation\n",
    "\n",
    "We now Consider a simple value function approximator using coarse coding. use a binary vector pi(s, a) with 3\\*6\\*2 = 36 features. Each binary feature has a value of 1 iff (s,a) lies within the cuboid of state-space corresponding to that feature, and the action corresponding to that feature. The cuboids have the following overlapping intervals:  \n",
    "  \n",
    "    dealer(s) = {[1,4],[4,7],[7,10]}  \n",
    "    player(s) = {[1,6],[4,9],[7,12],[10,15],[13,18],[16,21]}  \n",
    "    a = {hit, stick}  \n",
    "  \n",
    "where \n",
    "* dealer(s) is the value of the dealer's first card (1-10)\n",
    "* sum(s) is the sum of the player's cards (1-21)\n",
    "\n",
    "Repeat the Sarsa(Lamda) experiment from the previous section, but using linear value function approximation Q(s,a) = pi(s,a)^Ttheta. User a constant exploration of epsilon = 0.05 and a constant step-size of 0.01. Plot the mean-square error against Lamda. For Lamda = 0 and Lamda = 1 only, plot the learning curve of mean-squared error against episode number."
   ]
  },
  {
   "cell_type": "markdown",
   "metadata": {},
   "source": []
  },
  {
   "cell_type": "code",
   "execution_count": null,
   "metadata": {},
   "outputs": [],
   "source": []
  },
  {
   "cell_type": "code",
   "execution_count": null,
   "metadata": {},
   "outputs": [],
   "source": []
  },
  {
   "cell_type": "code",
   "execution_count": null,
   "metadata": {},
   "outputs": [],
   "source": []
  },
  {
   "cell_type": "code",
   "execution_count": null,
   "metadata": {},
   "outputs": [],
   "source": []
  },
  {
   "cell_type": "code",
   "execution_count": null,
   "metadata": {},
   "outputs": [],
   "source": []
  }
 ],
 "metadata": {
  "kernelspec": {
   "display_name": "Python 3",
   "language": "python",
   "name": "python3"
  },
  "language_info": {
   "codemirror_mode": {
    "name": "ipython",
    "version": 3
   },
   "file_extension": ".py",
   "mimetype": "text/x-python",
   "name": "python",
   "nbconvert_exporter": "python",
   "pygments_lexer": "ipython3",
   "version": "3.6.4"
  }
 },
 "nbformat": 4,
 "nbformat_minor": 2
}
