{
 "cells": [
  {
   "cell_type": "code",
   "execution_count": null,
   "metadata": {},
   "outputs": [],
   "source": []
  },
  {
   "cell_type": "code",
   "execution_count": null,
   "metadata": {},
   "outputs": [],
   "source": []
  },
  {
   "cell_type": "code",
   "execution_count": null,
   "metadata": {},
   "outputs": [],
   "source": []
  },
  {
   "cell_type": "code",
   "execution_count": 2,
   "metadata": {},
   "outputs": [],
   "source": [
    "import numpy as np"
   ]
  },
  {
   "cell_type": "code",
   "execution_count": 49,
   "metadata": {},
   "outputs": [],
   "source": [
    "\n",
    "class EasyEnv(object):\n",
    "    def __init__(self):\n",
    "        self.lowerbound = 1\n",
    "        self.upperbound = 21\n",
    "        # 1 is hit and 0 is stick\n",
    "        self.actions = [0, 1]\n",
    "    \n",
    "    def initGame(self):\n",
    "        self.dealerValue = np.random.randint(1, 11)\n",
    "        self.playerValue = np.random.randint(1, 11)\n",
    "        \n",
    "    def draw(self):\n",
    "        card_value = np.random.randint(1, 11)\n",
    "        \n",
    "        if np.random.rand() <= 0.3:\n",
    "            return -card_value\n",
    "        else:\n",
    "            return card_value\n",
    "    \n",
    "    def step(self, playerValue, dealerValue, action):\n",
    "        \n",
    "        # \n",
    "        if action == 1:\n",
    "            state += self.draw()\n",
    "            \n",
    "            if playerValue > self.upperbound or playerValue < self.lowerbound:\n",
    "                reward = -1\n",
    "                terminated = True\n",
    "            else:\n",
    "                reward = 0\n",
    "                terminated = False\n",
    "        else:\n",
    "            # Player Action is Stick. Dealer`s turn.\n",
    "            while dealerValue < 17:\n",
    "                dealerValue += self.draw()\n",
    "                \n",
    "            if dealerValue > self.upperbound or dealerValue < self.lowerbound or playerValue > dealerValue:\n",
    "                reward = 1\n",
    "            elif playerValue == dealerValue:\n",
    "                reward = 0\n",
    "            else:\n",
    "                reward = -1\n",
    "        \n",
    "        return playerValue, dealerValue, reward, terminated\n",
    "    "
   ]
  },
  {
   "cell_type": "code",
   "execution_count": null,
   "metadata": {},
   "outputs": [],
   "source": []
  },
  {
   "cell_type": "code",
   "execution_count": null,
   "metadata": {},
   "outputs": [],
   "source": []
  },
  {
   "cell_type": "code",
   "execution_count": null,
   "metadata": {},
   "outputs": [],
   "source": []
  },
  {
   "cell_type": "code",
   "execution_count": null,
   "metadata": {},
   "outputs": [],
   "source": []
  },
  {
   "cell_type": "code",
   "execution_count": null,
   "metadata": {},
   "outputs": [],
   "source": []
  },
  {
   "cell_type": "code",
   "execution_count": null,
   "metadata": {},
   "outputs": [],
   "source": []
  },
  {
   "cell_type": "code",
   "execution_count": null,
   "metadata": {},
   "outputs": [],
   "source": []
  },
  {
   "cell_type": "code",
   "execution_count": null,
   "metadata": {},
   "outputs": [],
   "source": []
  }
 ],
 "metadata": {
  "kernelspec": {
   "display_name": "Python 3",
   "language": "python",
   "name": "python3"
  },
  "language_info": {
   "codemirror_mode": {
    "name": "ipython",
    "version": 3
   },
   "file_extension": ".py",
   "mimetype": "text/x-python",
   "name": "python",
   "nbconvert_exporter": "python",
   "pygments_lexer": "ipython3",
   "version": "3.6.4"
  }
 },
 "nbformat": 4,
 "nbformat_minor": 2
}
