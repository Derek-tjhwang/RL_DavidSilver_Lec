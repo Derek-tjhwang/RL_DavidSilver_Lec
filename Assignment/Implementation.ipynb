{
 "cells": [
  {
   "cell_type": "markdown",
   "metadata": {},
   "source": [
    "## Implementation\n",
    "\n",
    "You should write an environment that implements the game Easy21. Specifically, write a function, named step, which takes as input a state *s* (dealer\\`s first card 1-10 and the player\\`s sum 1-21), and an action *a* (hit or stick), and returns a sample of the next state *s*' (which may be terminal if the game is finished) and reward *r*. We will be using this environment for model-free reinforcement learning, and you should not explicitly represent the transition matrix for the MDP. There is no discouting (gamma = 1). You should treat the dealer\\`s moves as part of the environment, i.e. calling *step* with a *stick* action will play out the dealer\\`s cards and return the final reward and terminal state."
   ]
  },
  {
   "cell_type": "markdown",
   "metadata": {},
   "source": [
    "__Environment__\n",
    "- Step Function\n",
    "    * state s (dealerValue and playerValue)\n",
    "    * action a (hit or stick)\n",
    "    * return (next state s' and reward *r* and terminal state)\n",
    "* no discounting factor (gamma = 1)"
   ]
  },
  {
   "cell_type": "code",
   "execution_count": null,
   "metadata": {},
   "outputs": [],
   "source": []
  },
  {
   "cell_type": "code",
   "execution_count": 2,
   "metadata": {},
   "outputs": [],
   "source": [
    "import numpy as np"
   ]
  },
  {
   "cell_type": "code",
   "execution_count": 49,
   "metadata": {},
   "outputs": [],
   "source": [
    "\n",
    "class EasyEnv(object):\n",
    "    def __init__(self):\n",
    "        self.lowerbound = 1\n",
    "        self.upperbound = 21\n",
    "        # 1 is hit and 0 is stick\n",
    "        self.actions = [0, 1]\n",
    "    \n",
    "    def initGame(self):\n",
    "        self.dealerValue = np.random.randint(1, 11)\n",
    "        self.playerValue = np.random.randint(1, 11)\n",
    "        \n",
    "    def draw(self):\n",
    "        card_value = np.random.randint(1, 11)\n",
    "        \n",
    "        if np.random.rand() <= 0.3:\n",
    "            return -card_value\n",
    "        else:\n",
    "            return card_value\n",
    "    \n",
    "    def step(self, playerValue, dealerValue, action):\n",
    "        \n",
    "        # \n",
    "        if action == 1:\n",
    "            state += self.draw()\n",
    "            \n",
    "            if playerValue > self.upperbound or playerValue < self.lowerbound:\n",
    "                reward = -1\n",
    "                terminated = True\n",
    "            else:\n",
    "                reward = 0\n",
    "                terminated = False\n",
    "        else:\n",
    "            # Player Action is Stick. Dealer`s turn.\n",
    "            while dealerValue < 17:\n",
    "                dealerValue += self.draw()\n",
    "                \n",
    "            if dealerValue > self.upperbound or dealerValue < self.lowerbound or playerValue > dealerValue:\n",
    "                reward = 1\n",
    "            elif playerValue == dealerValue:\n",
    "                reward = 0\n",
    "            else:\n",
    "                reward = -1\n",
    "        \n",
    "        return playerValue, dealerValue, reward, terminated\n",
    "    "
   ]
  },
  {
   "cell_type": "code",
   "execution_count": null,
   "metadata": {},
   "outputs": [],
   "source": []
  },
  {
   "cell_type": "code",
   "execution_count": null,
   "metadata": {},
   "outputs": [],
   "source": []
  },
  {
   "cell_type": "code",
   "execution_count": null,
   "metadata": {},
   "outputs": [],
   "source": []
  },
  {
   "cell_type": "code",
   "execution_count": null,
   "metadata": {},
   "outputs": [],
   "source": []
  },
  {
   "cell_type": "code",
   "execution_count": null,
   "metadata": {},
   "outputs": [],
   "source": []
  },
  {
   "cell_type": "code",
   "execution_count": null,
   "metadata": {},
   "outputs": [],
   "source": []
  },
  {
   "cell_type": "code",
   "execution_count": null,
   "metadata": {},
   "outputs": [],
   "source": []
  },
  {
   "cell_type": "code",
   "execution_count": null,
   "metadata": {},
   "outputs": [],
   "source": []
  }
 ],
 "metadata": {
  "kernelspec": {
   "display_name": "Python 3",
   "language": "python",
   "name": "python3"
  },
  "language_info": {
   "codemirror_mode": {
    "name": "ipython",
    "version": 3
   },
   "file_extension": ".py",
   "mimetype": "text/x-python",
   "name": "python",
   "nbconvert_exporter": "python",
   "pygments_lexer": "ipython3",
   "version": "3.6.4"
  }
 },
 "nbformat": 4,
 "nbformat_minor": 2
}
